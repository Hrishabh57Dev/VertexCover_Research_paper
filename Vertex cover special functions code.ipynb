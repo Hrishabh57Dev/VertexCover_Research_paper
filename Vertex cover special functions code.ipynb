{
 "cells": [
  {
   "cell_type": "markdown",
   "id": "5f6a7df2",
   "metadata": {},
   "source": [
    "# Hopcroft-Karp Algorithm"
   ]
  },
  {
   "cell_type": "code",
   "execution_count": 3,
   "id": "f07bb1b4",
   "metadata": {},
   "outputs": [],
   "source": [
    "from collections import deque\n",
    "\n",
    "class BipartiteGraph:\n",
    "    def __init__(self, num_left_vertices, num_right_vertices):\n",
    "        self.num_left_vertices = num_left_vertices\n",
    "        self.num_right_vertices = num_right_vertices\n",
    "        self.graph = [[] for _ in range(num_left_vertices)]\n",
    "        self.pair_u = [-1] * num_left_vertices\n",
    "        self.pair_v = [-1] * num_right_vertices\n",
    "\n",
    "    def add_edge(self, u, v):\n",
    "        self.graph[u].append(v)\n",
    "\n",
    "    def bfs(self):\n",
    "        dist = [-1] * self.num_left_vertices\n",
    "        queue = deque()\n",
    "        for u in range(self.num_left_vertices):\n",
    "            if self.pair_u[u] == -1:\n",
    "                dist[u] = 0\n",
    "                queue.append(u)\n",
    "\n",
    "        while queue:\n",
    "            u = queue.popleft()\n",
    "            if dist[u] < 0:\n",
    "                continue\n",
    "            for v in self.graph[u]:\n",
    "                if self.pair_v[v] == -1:\n",
    "                    dist_new = dist[u] + 1\n",
    "                    dist[v] = dist_new\n",
    "                    if dist_new == 1:\n",
    "                        queue.append(v)\n",
    "                else:\n",
    "                    if dist[self.pair_v[v]] == -1:\n",
    "                        dist[self.pair_v[v]] = dist[u] + 1\n",
    "                        queue.append(self.pair_v[v])\n",
    "\n",
    "        return dist[0:self.num_left_vertices]\n",
    "\n",
    "    def dfs(self, u):\n",
    "        if u == -1:\n",
    "            return True\n",
    "        for v in self.graph[u]:\n",
    "            if self.pair_v[v] == -1 or (dist[self.pair_v[v]] == dist[u] + 1 and self.dfs(self.pair_v[v])):\n",
    "                self.pair_u[u] = v\n",
    "                self.pair_v[v] = u\n",
    "                return True\n",
    "        return False\n",
    "\n",
    "    def hopcroft_karp(self):\n",
    "        matching = 0\n",
    "        while True:\n",
    "            dist = self.bfs()\n",
    "            if -1 not in dist:\n",
    "                break\n",
    "            for u in range(self.num_left_vertices):\n",
    "                if self.pair_u[u] == -1 and self.dfs(u):\n",
    "                    matching += 1\n",
    "        return matching"
   ]
  },
  {
   "cell_type": "code",
   "execution_count": null,
   "id": "f60193dd",
   "metadata": {},
   "outputs": [],
   "source": []
  }
 ],
 "metadata": {
  "kernelspec": {
   "display_name": "Python 3 (ipykernel)",
   "language": "python",
   "name": "python3"
  },
  "language_info": {
   "codemirror_mode": {
    "name": "ipython",
    "version": 3
   },
   "file_extension": ".py",
   "mimetype": "text/x-python",
   "name": "python",
   "nbconvert_exporter": "python",
   "pygments_lexer": "ipython3",
   "version": "3.9.13"
  }
 },
 "nbformat": 4,
 "nbformat_minor": 5
}
